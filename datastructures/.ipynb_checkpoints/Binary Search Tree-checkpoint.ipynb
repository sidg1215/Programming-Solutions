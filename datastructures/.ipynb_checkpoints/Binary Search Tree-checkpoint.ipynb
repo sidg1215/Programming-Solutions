{
 "cells": [
  {
   "cell_type": "markdown",
   "metadata": {},
   "source": [
    "# <font color = green>Finally understanding: Recursion and Binary Search Trees</font>\n",
    "\n",
    ">#### <font color = black>Hi guys, my name is Sid, and like you, I am a computer science enthusiast. This is my first tutorial in data structures. Today, I want to go over a popular data structure, known as the Binary Search Tree, or BST. To first understand this structure, we must first understand a key concept in math, art, and computer science, known as recursion."
   ]
  },
  {
   "cell_type": "markdown",
   "metadata": {},
   "source": [
    "## <font color = green>What is recursion?</font>\n",
    "\n",
    ">#### <font color = black >Recursion is often the concept in computer science that almost makes you HATE the field itself. I know that when I first learned about it, I wanted to kill my self. But then someone, aka mì padre, really broke it down into small pieces, and then I began to see it's elegance and beauty. So first, we see how a computer manages the things it has to do in order, using a data structure known as a STACK.\n",
    "\n",
    ">#### <font color = black> Let's start out with an example. Below I have a program that creates a function called printHello(), which just returns the second function created, hello(). In the last line of this script, the function 'printHello()' is CALLED. And this my friends, activates the call stack of the program. Accorsing to our program, the first thing that our program must do is return 'printhello()', becaused it was called first. So we go throught the function step by step.</font>"
   ]
  },
  {
   "cell_type": "code",
   "execution_count": 10,
   "metadata": {},
   "outputs": [
    {
     "data": {
      "text/plain": [
       "'Hello'"
      ]
     },
     "execution_count": 10,
     "metadata": {},
     "output_type": "execute_result"
    }
   ],
   "source": [
    "def printHello():\n",
    "    return hello()\n",
    "def hello():\n",
    "    return \"Hello\"\n",
    "printHello()"
   ]
  },
  {
   "cell_type": "raw",
   "metadata": {},
   "source": [
    "def printHello():\n",
    "    return hello()"
   ]
  },
  {
   "cell_type": "markdown",
   "metadata": {},
   "source": [
    ">#### What 'printHello()' is telling the computer to do now is to return the function 'hello()'. And this causes our list of priorities to change. In order to complete 'printHello()', we have to complete the function 'hello()'. This adds a new stack to our call stack. Previously, the top stack on the call stack was the 'printHello()' function."
   ]
  },
  {
   "cell_type": "code",
   "execution_count": 11,
   "metadata": {
    "collapsed": true
   },
   "outputs": [],
   "source": [
    "#Add images of call stacks"
   ]
  },
  {
   "cell_type": "markdown",
   "metadata": {},
   "source": [
    ">#### Now we jump into the function \"hello()\". What this function does is it RETURNS the string 'Hello'. Thats it. This function has done what it has to do, which was return a value for the stack below it, or in other words give something for the 'printHello()' function to return. And voila, our program is finally complete and it returns the string 'Hello', and like that we 'pop' all of the layers in our call stack."
   ]
  },
  {
   "cell_type": "code",
   "execution_count": null,
   "metadata": {
    "collapsed": true
   },
   "outputs": [],
   "source": []
  },
  {
   "cell_type": "markdown",
   "metadata": {},
   "source": [
    ">#### This example explains HALF of what recursion is. Now it is time to delve into the other half. Recursion basically means when a function CALLS ITSELF. We understand what it means to call a function, but what happens when a function calls itself? We will explain this using a famous example, known as calculating the factorial of a number. The factorial of a number is when you multiply a number with all the numbers below it. It looks something like this:"
   ]
  },
  {
   "cell_type": "markdown",
   "metadata": {},
   "source": [
    "# $$ factorial(5) = 5 * 4 * 3 * 2 * 1 $$"
   ]
  },
  {
   "cell_type": "markdown",
   "metadata": {},
   "source": [
    ">#### But wait !? Isn't the factorial of 5 basically multiplying 5 by the factorial of 4? And that is absolutely right. What the expression above is basically this. And now this is where we solve the factorial of 5 recursively using our call stack:"
   ]
  },
  {
   "cell_type": "markdown",
   "metadata": {},
   "source": [
    "$$ factorial(1) = 1 $$\n",
    "$$ factorial(2) = 2 * factorial(1) $$\n",
    "$$ factorial(3) = 3 * factorial(2) $$\n",
    "$$ factorial(4) = 4 * factorial(3) $$\n",
    "$$ factorial(5) = 5 * factorial(4) $$"
   ]
  },
  {
   "cell_type": "markdown",
   "metadata": {},
   "source": [
    ">#### Why did we stop at factorial of 1? Well, the factorial of 1 is 1. In recursive programs, this is often known as the BASE CASE. The base case is basically a parameter, or input you pass into the function, which is always true or trivial. Now that we know the factorial of 1, we can 'pop' this call stack. And so we find out that the factorial of 5 is 120. I have also written a snippet of code which you can try out."
   ]
  },
  {
   "cell_type": "markdown",
   "metadata": {},
   "source": [
    "$$ factorial(1) = 1 $$\n",
    "$$ factorial(2) = 2 * 1  = 2 $$\n",
    "$$ factorial(3) = 3 * 2 = 6 $$\n",
    "$$ factorial(4) = 4 * 6 = 24 $$\n",
    "$$ factorial(5) = 5 * 24 = 120 $$"
   ]
  },
  {
   "cell_type": "code",
   "execution_count": 12,
   "metadata": {},
   "outputs": [
    {
     "data": {
      "text/plain": [
       "120"
      ]
     },
     "execution_count": 12,
     "metadata": {},
     "output_type": "execute_result"
    }
   ],
   "source": [
    "def factorial(n):\n",
    "    if n == 1:\n",
    "        return 1\n",
    "    else:\n",
    "        return n * factorial(n-1)\n",
    "factorial(5)"
   ]
  },
  {
   "cell_type": "markdown",
   "metadata": {},
   "source": [
    ">#### From these two examples, you should now be able to gain an understanding of recursion. Recursion is a really useful tool, as it lets us solve big problems as a bunch of 'sub problems'. Recursion is a tool that is used a lot in Divide and Conquer programming paradigms, which we will see in the future. Now let's talk about Binary Search Trees."
   ]
  },
  {
   "cell_type": "markdown",
   "metadata": {},
   "source": [
    "## <font color = green> Binary Search Trees (BST) </font>\n",
    "\n",
    ">#### A binary search tree is a data structure that serves as a collection of nodes. A node is an object that has three attributtes. They are\n",
    "\n",
    ">>1. The data: A variable that stores the data in the node ie, a number.\n",
    ">>2. Left connection: A variable that can store another node.\n",
    ">>3. Right connection: A variable that can store another node.\n",
    "\n",
    " <div style='text-align:center;font-weight:bold'>\n",
    "\t\t\n",
    "  <table class=\"image\" align=\"center\" >\n",
    "  <tr>\n",
    "    <td>\n",
    "      <img src=\"Images for jupyter/Binary_search_tree.svg\", alt = \"Binary Search Tree\"/>\n",
    "    </td>\n",
    "    <td>\n",
    "      <img src=\"Images for jupyter/binary-search-tree-diagram.png\", alt = \"Node\"/>\n",
    "    </td>\n",
    "  </tr>"
   ]
  },
  {
   "cell_type": "markdown",
   "metadata": {},
   "source": [
    ">#### The picture on the left is a Binary Search Tree, and the one on the right is a node (part of a binary search tree). Since each node is an 'object', we can create a class for the node. Below is the implementation for the Node we will be using throughout this tutorial. As you can see, each node initializes itself with a value (data), and sets it's left and right childs as None FOR THE TIME BEING. The first node of a tree is called the ROOT node. If you notice, the tree data structure looks like an upside down tree. That is why this node is called the root. In the case of the tree above, the root node is 8."
   ]
  },
  {
   "cell_type": "code",
   "execution_count": 13,
   "metadata": {
    "collapsed": true
   },
   "outputs": [],
   "source": [
    "class Node:\n",
    "    def __init__(self, val):\n",
    "        self.data = val\n",
    "        self.left = None\n",
    "        self.right = None"
   ]
  },
  {
   "cell_type": "markdown",
   "metadata": {},
   "source": [
    "#### Now you may be asking yourself, why did we learn about recursion in order to learn about trees? Well, this is because a tree is a recursive data structure. What do I mean by this? Look at the trees below. Don't let the circles fool you, they are both the same tree. Remember how we defined recursion as solving sub problems of a bigger problem. Look at the tree on the right. It looks like a tree, made up of smaller SUB-TREES, and those sub-trees are also made up of sub-trees. And that my friends, is why recursion is so important when we have to understand trees. Eventually, recursively, we get to a point where the 'sub trees' are just nodes. which is why the node is so important in the tree as well."
   ]
  },
  {
   "cell_type": "markdown",
   "metadata": {},
   "source": [
    " <div style='text-align:center;font-weight:bold'>\n",
    "\t\t\n",
    "  <table class=\"image\" align=\"center\" >\n",
    "  <tr>\n",
    "    <td>\n",
    "      <img src=\"Images for jupyter/IC520 (1).gif\", alt = \"Binary Search Tree\"/>\n",
    "    </td>\n",
    "    <td>\n",
    "      <img src=\"Images for jupyter/IC520.gif\", alt = \"Node\"/>\n",
    "    </td>\n",
    "  </tr>"
   ]
  },
  {
   "cell_type": "markdown",
   "metadata": {},
   "source": [
    "### Insertion\n",
    ">#### The first method of the Binary Search Tree that we will be discussing about is how to insert nodes. One of the key things about the binary search tree that makes it so speacial is that the LEFT CHILD of every node is LESS than or equal to the data in the ROOT node, and the RIGHT CHILD of every node is greater than the data in the root node. We organize the nodes in this way because it will allow us to do something REALLY COOL, which we will see in the next two sections.\n",
    "\n",
    ">#### If every node can only have two children, and we want to INSERT another node, what do we do? We use recursion.\n",
    "\n",
    ">#### If we encounter a value that is LESS than the root node, we travel down to the LEFT child of the root node and compare with the data stored in that node. Again, if the value is less than the current node, we go left, else we go right, UNTIL we encounter a situation where we have to go left or right and there IS NO CHILD. That is where we wil create a new node and strore the value. Below is a nice illustration of the topic (just double tap the cell below and re-run it! )and the python implementation of insertion."
   ]
  },
  {
   "cell_type": "markdown",
   "metadata": {},
   "source": [
    " <div style='text-align:center;font-weight:bold'>\n",
    "\t\t\n",
    "  <table class=\"image\" align=\"center\" >\n",
    "  <tr>\n",
    "    <td>\n",
    "      <img src=\"Images for jupyter/Insertion.gif\", alt = \"Binary Search Tree\"/>\n",
    "    </td>\n",
    "  </tr>"
   ]
  },
  {
   "cell_type": "code",
   "execution_count": 14,
   "metadata": {
    "collapsed": true
   },
   "outputs": [],
   "source": [
    "def insert(value,node):\n",
    "    if value < node.data:\n",
    "        if node.left == None:\n",
    "            node.left = Node(value)\n",
    "        else:\n",
    "            print \"Going Left\"\n",
    "            insert(value,node.left)\n",
    "    else:\n",
    "        if node.right == None:\n",
    "            node.right = Node(value)\n",
    "        else:\n",
    "            print \"Going Right\"\n",
    "            insert(value,node.right)\n",
    "    return"
   ]
  },
  {
   "cell_type": "code",
   "execution_count": 53,
   "metadata": {
    "collapsed": true
   },
   "outputs": [],
   "source": [
    "def searchNode(value, node):\n",
    "    if value == node.data:\n",
    "        return node\n",
    "    if value <> node.data and node.left == None and node.right == None:\n",
    "        return False\n",
    "    else:\n",
    "        if value < node.data:\n",
    "            return searchNode(value, node.left)\n",
    "        elif value >= node.data:\n",
    "            return searchNode(value,node.right)\n",
    "            "
   ]
  },
  {
   "cell_type": "code",
   "execution_count": 322,
   "metadata": {
    "collapsed": true
   },
   "outputs": [],
   "source": [
    "def search(value, node):\n",
    "    if value == node.data:\n",
    "        return True\n",
    "    if value < node.data and node.left == None:\n",
    "        return False\n",
    "    if value >= node.data and node.right == None:\n",
    "        return False\n",
    "    if value <> node.data and node.left == None and node.right == None:\n",
    "        return\n",
    "    else:\n",
    "        if value < node.data:\n",
    "            return search(value, node.left)\n",
    "        elif value >= node.data:\n",
    "            return search(value,node.right)"
   ]
  },
  {
   "cell_type": "code",
   "execution_count": 323,
   "metadata": {
    "collapsed": true
   },
   "outputs": [],
   "source": [
    "def printSorted(node):\n",
    "    if node.left <> None:\n",
    "        printSorted(node.left)\n",
    "    print node.data\n",
    "    if node.right <> None:\n",
    "        printSorted(node.right)"
   ]
  },
  {
   "cell_type": "code",
   "execution_count": 324,
   "metadata": {
    "code_folding": [],
    "collapsed": true
   },
   "outputs": [],
   "source": [
    "def maxNode(node):\n",
    "    if node.right <> None:\n",
    "        return maxNode(node.right)\n",
    "    if node.right == None:\n",
    "        return node\n",
    "\n",
    "def minNode(node):\n",
    "    if node.left <> None:\n",
    "        return minNode(node.left)\n",
    "    if node.left == None:\n",
    "        return node"
   ]
  },
  {
   "cell_type": "code",
   "execution_count": 347,
   "metadata": {
    "code_folding": [],
    "collapsed": true
   },
   "outputs": [],
   "source": [
    "def deleteChildNode(value, node):\n",
    "    if node.left <> None and node.left.data == value:\n",
    "        node.left = None\n",
    "        return \"Node is deleted\"\n",
    "    if node.right <> None and node.right.data == value:\n",
    "        node.right = None\n",
    "        return \"Node is deleted\"\n",
    "    else:\n",
    "        if value < node.data:\n",
    "            return deleteChildNode(value, node.left)\n",
    "        elif value >= node.data:\n",
    "            return deleteChildNode(value,node.right)\n",
    "def deleteNode(value, node):\n",
    "    if search(value, node) == False:\n",
    "        return \"Did not find node\"\n",
    "    else:\n",
    "        delete = searchNode(value, node)        \n",
    "        if delete.right <> None:\n",
    "            minimum = minNode(delete.right)\n",
    "            delete.data = minimum.data\n",
    "            if minimum.left == None and minimum.right == None:\n",
    "                 if delete.right.data == minimum.data:\n",
    "                    delete.right = None\n",
    "                    return \"Node has been deleted\"\n",
    "                 else:\n",
    "                    return deleteChildNode(minimum.data, delete.right)\n",
    "            if minimum.right <> None:\n",
    "                return deleteNone(minimum.right)\n",
    "        if delete.left <> None and delete.right == None:\n",
    "            maximum = maxNode(delete.left)\n",
    "            delete.data = maximum.data\n",
    "            if maximum.left == None and maximum.right == None:\n",
    "                if delete.left.data == maximum.data:\n",
    "                    delete.left = None\n",
    "                    return \"Node has been deleted\"\n",
    "                else:\n",
    "                    return deleteChildNode(maximum.data, delete.left)\n",
    "            if maximum.left <> None:\n",
    "                return deleteNode(maximum.left)\n",
    "        if delete.left == None and delete.right == None:\n",
    "            return deleteChildNode(value, node)"
   ]
  },
  {
   "cell_type": "code",
   "execution_count": 348,
   "metadata": {
    "code_folding": [],
    "collapsed": true
   },
   "outputs": [],
   "source": [
    "class BinarySearchTree():\n",
    "    def __init__(self, val):\n",
    "        self.root = Node(val)\n",
    "    def insert(self, val):\n",
    "        return insert(val, self.root)\n",
    "    def search(self, val):\n",
    "        return search(val, self.root)\n",
    "    def printSorted(self):\n",
    "        return printSorted(self.root)\n",
    "    def deleteNode(self, val):\n",
    "        return deleteNode(val, self.root)\n",
    "    def searchNode(self, val):\n",
    "        return searchNode(val, self.root)\n",
    "    def maxNode(self):\n",
    "        return maxNode(self.root)\n",
    "    def minNode(self):\n",
    "        return minNode(self.root)"
   ]
  }
 ],
 "metadata": {
  "kernelspec": {
   "display_name": "Python 2",
   "language": "python",
   "name": "python2"
  },
  "language_info": {
   "codemirror_mode": {
    "name": "ipython",
    "version": 2
   },
   "file_extension": ".py",
   "mimetype": "text/x-python",
   "name": "python",
   "nbconvert_exporter": "python",
   "pygments_lexer": "ipython2",
   "version": "2.7.11"
  }
 },
 "nbformat": 4,
 "nbformat_minor": 2
}
