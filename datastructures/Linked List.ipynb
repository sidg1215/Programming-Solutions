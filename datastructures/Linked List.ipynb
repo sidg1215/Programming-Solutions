{
 "cells": [
  {
   "cell_type": "code",
   "execution_count": 3,
   "metadata": {
    "collapsed": true
   },
   "outputs": [],
   "source": [
    "class Node:\n",
    "    def __init__(self, data):\n",
    "        self.data = data\n",
    "        self.address = None"
   ]
  },
  {
   "cell_type": "code",
   "execution_count": 4,
   "metadata": {
    "collapsed": true
   },
   "outputs": [],
   "source": [
    "def insert(node, value):\n",
    "    if node.address == None:\n",
    "        node.address = Node(value)\n",
    "        return \"Inserted node \"\n",
    "    else:\n",
    "        return insert(node.address,value)"
   ]
  },
  {
   "cell_type": "code",
   "execution_count": 5,
   "metadata": {
    "collapsed": true
   },
   "outputs": [],
   "source": [
    "def printNodes(node):\n",
    "    print node.data\n",
    "    if node.address <> None:\n",
    "        return printNodes(node.address)\n",
    "    if node.address == None:\n",
    "        return"
   ]
  },
  {
   "cell_type": "code",
   "execution_count": 6,
   "metadata": {
    "collapsed": true
   },
   "outputs": [],
   "source": [
    "def search(node, value):\n",
    "    if node.data == value:\n",
    "        return True\n",
    "    if node.address == None:\n",
    "        return False\n",
    "    else:\n",
    "        return search(node.address, value)"
   ]
  },
  {
   "cell_type": "code",
   "execution_count": 12,
   "metadata": {
    "collapsed": true
   },
   "outputs": [],
   "source": [
    "def delete(node, value):\n",
    "    if search(node, value) == False:\n",
    "        return \"Cannot delete node\"\n",
    "    else:\n",
    "        if node.address.data == value:\n",
    "            node.address = node.address.address\n",
    "            return \"Node has been deleted\"\n",
    "        "
   ]
  },
  {
   "cell_type": "code",
   "execution_count": 25,
   "metadata": {},
   "outputs": [],
   "source": [
    "class LinkedList:\n",
    "    def __init__(self, root):\n",
    "        self.root = Node(root)\n",
    "    def insert(self, value):\n",
    "        return insert(self.root, value)\n",
    "    def printNodes(self):\n",
    "        return printNodes(self.root)\n",
    "    def search(self, value):\n",
    "        return search(self.root, value)\n",
    "    def delete(self, value):\n",
    "        return delete(self.root, value)\n"
   ]
  },
  {
   "cell_type": "code",
   "execution_count": 26,
   "metadata": {
    "collapsed": true
   },
   "outputs": [],
   "source": [
    "linkedlist = LinkedList(5)"
   ]
  },
  {
   "cell_type": "code",
   "execution_count": 27,
   "metadata": {},
   "outputs": [
    {
     "data": {
      "text/plain": [
       "'Inserted node '"
      ]
     },
     "execution_count": 27,
     "metadata": {},
     "output_type": "execute_result"
    }
   ],
   "source": [
    "linkedlist.insert(6)"
   ]
  },
  {
   "cell_type": "code",
   "execution_count": 28,
   "metadata": {},
   "outputs": [
    {
     "name": "stdout",
     "output_type": "stream",
     "text": [
      "5\n",
      "6\n"
     ]
    }
   ],
   "source": [
    "linkedlist.printNodes()"
   ]
  },
  {
   "cell_type": "code",
   "execution_count": null,
   "metadata": {
    "collapsed": true
   },
   "outputs": [],
   "source": []
  }
 ],
 "metadata": {
  "kernelspec": {
   "display_name": "Python 2",
   "language": "python",
   "name": "python2"
  },
  "language_info": {
   "codemirror_mode": {
    "name": "ipython",
    "version": 2
   },
   "file_extension": ".py",
   "mimetype": "text/x-python",
   "name": "python",
   "nbconvert_exporter": "python",
   "pygments_lexer": "ipython2",
   "version": "2.7.13"
  }
 },
 "nbformat": 4,
 "nbformat_minor": 2
}
