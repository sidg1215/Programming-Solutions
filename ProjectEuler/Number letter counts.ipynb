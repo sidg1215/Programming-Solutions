{
 "cells": [
  {
   "cell_type": "code",
   "execution_count": 3,
   "metadata": {
    "collapsed": true
   },
   "outputs": [],
   "source": [
    "unique = {'1':'one',\n",
    "       '2':'two',\n",
    "       '3' : 'three',\n",
    "       '4':'four',\n",
    "       '5':'five',\n",
    "       '6' : 'six',\n",
    "       '7': 'seven',\n",
    "       '8':'eight',\n",
    "       '9' : 'nine',\n",
    "       '0' : 'zero',\n",
    "       '10' : 'ten',\n",
    "       '11' : 'eleven',\n",
    "       '12' : 'twelve'\n",
    "       '13' : 'thirteen',\n",
    "       '14' : 'fourteen',\n",
    "       '15' : 'fifteen',\n",
    "       '16' : 'sixteen',\n",
    "       '17' : 'seventeen',\n",
    "       '18' : 'eighteen',\n",
    "       '19' : 'nineteen'}\n",
    "\n",
    "tens = {'2' : 'twenty',\n",
    "       '3' : 'thirty',\n",
    "       '4' : 'forty',\n",
    "       '5' : 'fifty',\n",
    "       '6' : 'sixty',\n",
    "       '7' : 'seventy',\n",
    "       '8' : 'eighty',\n",
    "       '9' : 'ninety'}"
   ]
  },
  {
   "cell_type": "code",
   "execution_count": 4,
   "metadata": {},
   "outputs": [
    {
     "data": {
      "text/plain": [
       "'two'"
      ]
     },
     "execution_count": 4,
     "metadata": {},
     "output_type": "execute_result"
    }
   ],
   "source": [
    "summation = 0\n",
    "for num in xrange(1, 1000):\n",
    "    number = str(num)\n",
    "    \n",
    "    for char in number:\n",
    "        if len(number) == 1:\n",
    "            summation = summation + len(dict[char])\n",
    "        if len(number) == 2 and num < 20:\n",
    "            summation = summation + len(dict[num])\n",
    "            break\n",
    "        if len(number) == 2 and num >= 20:\n",
    "            if \n",
    "            summation = summation + len()\n",
    "            "
   ]
  },
  {
   "cell_type": "code",
   "execution_count": null,
   "metadata": {
    "collapsed": true
   },
   "outputs": [],
   "source": []
  }
 ],
 "metadata": {
  "kernelspec": {
   "display_name": "Python 2",
   "language": "python",
   "name": "python2"
  },
  "language_info": {
   "codemirror_mode": {
    "name": "ipython",
    "version": 2
   },
   "file_extension": ".py",
   "mimetype": "text/x-python",
   "name": "python",
   "nbconvert_exporter": "python",
   "pygments_lexer": "ipython2",
   "version": "2.7.11"
  }
 },
 "nbformat": 4,
 "nbformat_minor": 2
}
