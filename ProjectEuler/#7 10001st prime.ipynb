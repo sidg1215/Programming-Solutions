{
 "cells": [
  {
   "cell_type": "code",
   "execution_count": 53,
   "metadata": {},
   "outputs": [],
   "source": [
    "def prime(n):\n",
    "    z = 3\n",
    "    primes = [2]\n",
    "    while len(primes) <> n:\n",
    "        if len(primes) % 1000 == 0:\n",
    "            print primes[-1]\n",
    "        count = 0\n",
    "        for num in range(2,((z/2)+2)):\n",
    "            if z % num == 0:\n",
    "                count = count + 1\n",
    "        if count == 0:\n",
    "            primes.append(z)\n",
    "        z = z+1\n",
    "    return primes[-1]\n",
    "                "
   ]
  },
  {
   "cell_type": "code",
   "execution_count": null,
   "metadata": {
    "scrolled": false
   },
   "outputs": [
    {
     "name": "stdout",
     "output_type": "stream",
     "text": [
      "7919\n",
      "7919\n",
      "7919\n",
      "7919\n",
      "7919\n",
      "7919\n",
      "7919\n",
      "7919\n",
      "17389\n",
      "17389\n",
      "17389\n",
      "17389\n",
      "27449\n",
      "27449\n",
      "27449\n",
      "27449\n",
      "27449\n",
      "27449\n",
      "27449\n",
      "27449\n",
      "37813\n",
      "37813\n",
      "37813\n",
      "37813\n",
      "37813\n",
      "37813\n",
      "37813\n",
      "37813\n",
      "37813\n",
      "37813\n",
      "37813\n",
      "37813\n",
      "37813\n",
      "37813\n",
      "37813\n",
      "37813\n",
      "37813\n",
      "37813\n",
      "48611\n",
      "48611\n",
      "48611\n",
      "48611\n",
      "48611\n",
      "48611\n",
      "48611\n",
      "48611\n",
      "59359\n",
      "59359\n",
      "59359\n",
      "59359\n",
      "59359\n",
      "59359\n",
      "59359\n",
      "59359\n",
      "59359\n",
      "59359\n",
      "70657\n",
      "70657\n",
      "70657\n",
      "70657\n",
      "70657\n",
      "70657\n",
      "81799\n",
      "81799\n",
      "81799\n",
      "81799\n",
      "81799\n",
      "81799\n",
      "81799\n",
      "81799\n",
      "81799\n",
      "81799\n",
      "81799\n",
      "81799\n",
      "81799\n",
      "81799\n",
      "81799\n",
      "81799\n",
      "81799\n",
      "81799\n",
      "93179\n",
      "93179\n",
      "93179\n",
      "93179\n",
      "93179\n",
      "93179\n",
      "93179\n",
      "93179\n"
     ]
    }
   ],
   "source": [
    "prime(10001)"
   ]
  },
  {
   "cell_type": "code",
   "execution_count": 29,
   "metadata": {},
   "outputs": [
    {
     "data": {
      "text/plain": [
       "2"
      ]
     },
     "execution_count": 29,
     "metadata": {},
     "output_type": "execute_result"
    }
   ],
   "source": []
  },
  {
   "cell_type": "code",
   "execution_count": null,
   "metadata": {
    "collapsed": true
   },
   "outputs": [],
   "source": []
  }
 ],
 "metadata": {
  "kernelspec": {
   "display_name": "Python 2",
   "language": "python",
   "name": "python2"
  },
  "language_info": {
   "codemirror_mode": {
    "name": "ipython",
    "version": 2
   },
   "file_extension": ".py",
   "mimetype": "text/x-python",
   "name": "python",
   "nbconvert_exporter": "python",
   "pygments_lexer": "ipython2",
   "version": "2.7.13"
  }
 },
 "nbformat": 4,
 "nbformat_minor": 2
}
