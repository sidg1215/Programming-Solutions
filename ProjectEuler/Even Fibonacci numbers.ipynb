{
 "cells": [
  {
   "cell_type": "code",
   "execution_count": 1,
   "metadata": {
    "collapsed": true
   },
   "outputs": [],
   "source": [
    "def fib(n):\n",
    "    if n <= 1:\n",
    "        return 1\n",
    "    else:\n",
    "        return fib(n-1) + fib(n-2)"
   ]
  },
  {
   "cell_type": "code",
   "execution_count": 23,
   "metadata": {},
   "outputs": [
    {
     "name": "stdout",
     "output_type": "stream",
     "text": [
      "0\n",
      "0\n",
      "2\n",
      "2\n",
      "2\n",
      "10\n",
      "10\n",
      "10\n",
      "44\n",
      "44\n",
      "44\n",
      "188\n",
      "188\n",
      "188\n",
      "798\n",
      "798\n",
      "798\n",
      "3382\n",
      "3382\n",
      "3382\n",
      "14328\n",
      "14328\n",
      "14328\n",
      "60696\n",
      "60696\n",
      "60696\n",
      "257114\n",
      "257114\n",
      "257114\n",
      "1089154\n",
      "1089154\n",
      "1089154\n"
     ]
    }
   ],
   "source": [
    "n = 1\n",
    "summ = 0\n",
    "while n <=32:\n",
    "    fibo = fib(n)\n",
    "    print summ\n",
    "    if fibo%2 == 0:\n",
    "        summ = summ + fibo\n",
    "    n = n+1"
   ]
  },
  {
   "cell_type": "code",
   "execution_count": null,
   "metadata": {
    "collapsed": true
   },
   "outputs": [],
   "source": []
  }
 ],
 "metadata": {
  "kernelspec": {
   "display_name": "Python 2",
   "language": "python",
   "name": "python2"
  },
  "language_info": {
   "codemirror_mode": {
    "name": "ipython",
    "version": 2
   },
   "file_extension": ".py",
   "mimetype": "text/x-python",
   "name": "python",
   "nbconvert_exporter": "python",
   "pygments_lexer": "ipython2",
   "version": "2.7.13"
  }
 },
 "nbformat": 4,
 "nbformat_minor": 2
}
