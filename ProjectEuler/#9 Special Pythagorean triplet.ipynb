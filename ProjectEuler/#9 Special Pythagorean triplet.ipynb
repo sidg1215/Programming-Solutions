{
 "cells": [
  {
   "cell_type": "code",
   "execution_count": 44,
   "metadata": {
    "scrolled": true
   },
   "outputs": [
    {
     "name": "stdout",
     "output_type": "stream",
     "text": [
      "Triplet:  200 375 C:  425.0\n"
     ]
    },
    {
     "data": {
      "text/plain": [
       "1"
      ]
     },
     "execution_count": 44,
     "metadata": {},
     "output_type": "execute_result"
    }
   ],
   "source": [
    "import math\n",
    "triplets = []\n",
    "for x in range(1001):\n",
    "    for y in range(1001):\n",
    "        cval = (x**2 + y**2)**0.5\n",
    "        rounded = math.ceil(cval)\n",
    "        if rounded-cval == 0.0 and x<y<(x**2 + y**2)**0.5 and (x**2 + y**2)**0.5<1000 and x+y+(x**2 + y**2)**0.5 == 1000:\n",
    "            print \"Triplet: \", x,y,\"C: \",(x**2 + y**2)**0.5\n",
    "            triplets.append((x,y,int((x**2 + y**2)**0.5)))\n",
    "            print \"Triplet product: \", x*y*(x**2 + y**2)**0.5\n",
    "len(triplets)"
   ]
  },
  {
   "cell_type": "code",
   "execution_count": 31,
   "metadata": {},
   "outputs": [
    {
     "name": "stdout",
     "output_type": "stream",
     "text": [
      "5.0 5.0\n"
     ]
    }
   ],
   "source": [
    "cval = (3**2 + 4**2)**0.5\n",
    "rounded = math.ceil(cval)\n",
    "print cval, rounded"
   ]
  },
  {
   "cell_type": "code",
   "execution_count": 30,
   "metadata": {},
   "outputs": [
    {
     "name": "stdout",
     "output_type": "stream",
     "text": [
      "2\n"
     ]
    }
   ],
   "source": [
    "x = 2.9\n",
    "print int(x)"
   ]
  },
  {
   "cell_type": "code",
   "execution_count": null,
   "metadata": {
    "collapsed": true
   },
   "outputs": [],
   "source": []
  }
 ],
 "metadata": {
  "kernelspec": {
   "display_name": "Python 2",
   "language": "python",
   "name": "python2"
  },
  "language_info": {
   "codemirror_mode": {
    "name": "ipython",
    "version": 2
   },
   "file_extension": ".py",
   "mimetype": "text/x-python",
   "name": "python",
   "nbconvert_exporter": "python",
   "pygments_lexer": "ipython2",
   "version": "2.7.13"
  }
 },
 "nbformat": 4,
 "nbformat_minor": 2
}
