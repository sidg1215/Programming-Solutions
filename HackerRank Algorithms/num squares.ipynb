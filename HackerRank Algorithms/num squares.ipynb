{
 "cells": [
  {
   "cell_type": "code",
   "execution_count": 7,
   "metadata": {
    "collapsed": true
   },
   "outputs": [],
   "source": [
    "def numsquares(x,s):\n",
    "    print s\n",
    "    if s-x <= 2:\n",
    "        print \"Paint\"\n",
    "        return\n",
    "    else:\n",
    "        numsquares(x,s**(0.5)/2)\n",
    "        numsquares(x,s**(0.5)/2)\n",
    "        numsquares(x,s**(0.5)/2)\n",
    "        numsquares(x,s**(0.5)/2)"
   ]
  },
  {
   "cell_type": "code",
   "execution_count": 8,
   "metadata": {},
   "outputs": [
    {
     "name": "stdout",
     "output_type": "stream",
     "text": [
      "256\n",
      "8.0\n",
      "1.41421356237\n",
      "Paint\n",
      "1.41421356237\n",
      "Paint\n",
      "1.41421356237\n",
      "Paint\n",
      "1.41421356237\n",
      "Paint\n",
      "8.0\n",
      "1.41421356237\n",
      "Paint\n",
      "1.41421356237\n",
      "Paint\n",
      "1.41421356237\n",
      "Paint\n",
      "1.41421356237\n",
      "Paint\n",
      "8.0\n",
      "1.41421356237\n",
      "Paint\n",
      "1.41421356237\n",
      "Paint\n",
      "1.41421356237\n",
      "Paint\n",
      "1.41421356237\n",
      "Paint\n",
      "8.0\n",
      "1.41421356237\n",
      "Paint\n",
      "1.41421356237\n",
      "Paint\n",
      "1.41421356237\n",
      "Paint\n",
      "1.41421356237\n",
      "Paint\n"
     ]
    }
   ],
   "source": [
    "numsquares(0,256)"
   ]
  },
  {
   "cell_type": "code",
   "execution_count": null,
   "metadata": {
    "collapsed": true
   },
   "outputs": [],
   "source": []
  }
 ],
 "metadata": {
  "kernelspec": {
   "display_name": "Python 2",
   "language": "python",
   "name": "python2"
  },
  "language_info": {
   "codemirror_mode": {
    "name": "ipython",
    "version": 2
   },
   "file_extension": ".py",
   "mimetype": "text/x-python",
   "name": "python",
   "nbconvert_exporter": "python",
   "pygments_lexer": "ipython2",
   "version": "2.7.13"
  }
 },
 "nbformat": 4,
 "nbformat_minor": 2
}
