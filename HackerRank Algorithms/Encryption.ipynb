{
 "cells": [
  {
   "cell_type": "code",
   "execution_count": 89,
   "metadata": {
    "collapsed": true
   },
   "outputs": [],
   "source": [
    "import math\n",
    "import os\n",
    "import random\n",
    "import re\n",
    "import sys\n",
    "\n",
    "# Complete the encryption function below.\n",
    "def encryption(s):\n",
    "    s = \"\".join(s.split())\n",
    "    row = math.floor(float(math.sqrt(len(s))))\n",
    "    col = math.ceil(float(math.sqrt(len(s))))\n",
    "    \n",
    "    matrix = []\n",
    "    \n",
    "    rowstring = \"\"\n",
    "    count = 1\n",
    "    for i in s:\n",
    "        if count == col:\n",
    "            rowstring = rowstring + i\n",
    "            matrix.append(rowstring)\n",
    "            rowstring = \"\"\n",
    "            count = 1\n",
    "        else:\n",
    "            rowstring = rowstring + i\n",
    "            count = count + 1\n",
    "    if rowstring <> \"\":\n",
    "        i = len(rowstring)\n",
    "        while i<>col:\n",
    "            rowstring = rowstring + \" \"\n",
    "            i = i+1\n",
    "        matrix.append(rowstring)\n",
    "    newstring = \"\"\n",
    "    i = 0\n",
    "    \n",
    "    while i<>col:\n",
    "        for k in matrix:\n",
    "            if k[i] == \" \":\n",
    "                break\n",
    "            newstring = newstring+k[i]\n",
    "        newstring = newstring + \" \"\n",
    "        i = i + 1\n",
    "    \n",
    "    return newstring.rstrip()\n"
   ]
  },
  {
   "cell_type": "code",
   "execution_count": 90,
   "metadata": {},
   "outputs": [
    {
     "data": {
      "text/plain": [
       "'fto ehg ee dd'"
      ]
     },
     "execution_count": 90,
     "metadata": {},
     "output_type": "execute_result"
    }
   ],
   "source": [
    "encryption(\"feedthedog\")"
   ]
  },
  {
   "cell_type": "code",
   "execution_count": null,
   "metadata": {
    "collapsed": true
   },
   "outputs": [],
   "source": []
  }
 ],
 "metadata": {
  "kernelspec": {
   "display_name": "Python 2",
   "language": "python",
   "name": "python2"
  },
  "language_info": {
   "codemirror_mode": {
    "name": "ipython",
    "version": 2
   },
   "file_extension": ".py",
   "mimetype": "text/x-python",
   "name": "python",
   "nbconvert_exporter": "python",
   "pygments_lexer": "ipython2",
   "version": "2.7.11"
  }
 },
 "nbformat": 4,
 "nbformat_minor": 2
}
