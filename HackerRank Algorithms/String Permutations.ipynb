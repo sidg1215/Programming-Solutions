{
 "cells": [
  {
   "cell_type": "code",
   "execution_count": 6,
   "metadata": {},
   "outputs": [],
   "source": [
    "def permute(string, k=0, i = 1):\n",
    "    arr = []\n",
    "    all_strings = []\n",
    "    arr.append(string)\n",
    "    string = list(string)\n",
    "    if i == len(string):\n",
    "        all_strings.append(''.join(string))\n",
    "        return all_strings\n",
    "    n = 0\n",
    "    \n",
    "    while i <> len(string):\n",
    "        string[k], string[i] = string[i], string[k]\n",
    "        arr.append(''.join(string))\n",
    "        string[i], string[k] = string[k], string[i]\n",
    "        i = i + 1\n",
    "\n",
    "        n = n+1\n",
    "    i = i-n\n",
    "    \n",
    "    for t in range(len(arr)):\n",
    "        all_strings = all_strings + permute(arr[t],k+1, i+1)\n",
    "    return all_strings"
   ]
  },
  {
   "cell_type": "code",
   "execution_count": 7,
   "metadata": {},
   "outputs": [
    {
     "data": {
      "text/plain": [
       "['sid', 'sdi', 'isd', 'ids', 'dis', 'dsi']"
      ]
     },
     "execution_count": 7,
     "metadata": {},
     "output_type": "execute_result"
    }
   ],
   "source": [
    "permute('sid')"
   ]
  },
  {
   "cell_type": "code",
   "execution_count": 8,
   "metadata": {
    "collapsed": true
   },
   "outputs": [],
   "source": [
    "import itertools"
   ]
  },
  {
   "cell_type": "code",
   "execution_count": 9,
   "metadata": {
    "collapsed": true
   },
   "outputs": [],
   "source": [
    "def allPermutations(string):\n",
    "    all_permutations = []\n",
    "    for i in range(1, len(string)+1):\n",
    "        tuples = itertools.combinations(string,i)\n",
    "        for n in tuples:\n",
    "            all_permutations.append(permute(n))\n",
    "    return all_permutations"
   ]
  },
  {
   "cell_type": "code",
   "execution_count": 12,
   "metadata": {
    "scrolled": true
   },
   "outputs": [
    {
     "data": {
      "text/plain": [
       "[['a'],\n",
       " ['b'],\n",
       " ['c'],\n",
       " ['d'],\n",
       " ['ab', 'ba'],\n",
       " ['ac', 'ca'],\n",
       " ['ad', 'da'],\n",
       " ['bc', 'cb'],\n",
       " ['bd', 'db'],\n",
       " ['cd', 'dc'],\n",
       " ['abc', 'acb', 'bac', 'bca', 'cba', 'cab'],\n",
       " ['abd', 'adb', 'bad', 'bda', 'dba', 'dab'],\n",
       " ['acd', 'adc', 'cad', 'cda', 'dca', 'dac'],\n",
       " ['bcd', 'bdc', 'cbd', 'cdb', 'dcb', 'dbc'],\n",
       " ['abcd',\n",
       "  'abdc',\n",
       "  'acbd',\n",
       "  'acdb',\n",
       "  'adcb',\n",
       "  'adbc',\n",
       "  'bacd',\n",
       "  'badc',\n",
       "  'bcad',\n",
       "  'bcda',\n",
       "  'bdca',\n",
       "  'bdac',\n",
       "  'cbad',\n",
       "  'cbda',\n",
       "  'cabd',\n",
       "  'cadb',\n",
       "  'cdab',\n",
       "  'cdba',\n",
       "  'dbca',\n",
       "  'dbac',\n",
       "  'dcba',\n",
       "  'dcab',\n",
       "  'dacb',\n",
       "  'dabc']]"
      ]
     },
     "execution_count": 12,
     "metadata": {},
     "output_type": "execute_result"
    }
   ],
   "source": [
    "allPermutations(\"abcd\")"
   ]
  },
  {
   "cell_type": "code",
   "execution_count": 278,
   "metadata": {},
   "outputs": [
    {
     "data": {
      "text/plain": [
       "<function __main__.allPermutations>"
      ]
     },
     "execution_count": 278,
     "metadata": {},
     "output_type": "execute_result"
    }
   ],
   "source": [
    "allPermutations"
   ]
  },
  {
   "cell_type": "code",
   "execution_count": null,
   "metadata": {
    "collapsed": true
   },
   "outputs": [],
   "source": []
  }
 ],
 "metadata": {
  "kernelspec": {
   "display_name": "Python 2",
   "language": "python",
   "name": "python2"
  },
  "language_info": {
   "codemirror_mode": {
    "name": "ipython",
    "version": 2
   },
   "file_extension": ".py",
   "mimetype": "text/x-python",
   "name": "python",
   "nbconvert_exporter": "python",
   "pygments_lexer": "ipython2",
   "version": "2.7.11"
  }
 },
 "nbformat": 4,
 "nbformat_minor": 2
}
