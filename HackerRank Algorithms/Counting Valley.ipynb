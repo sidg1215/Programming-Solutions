{
 "cells": [
  {
   "cell_type": "code",
   "execution_count": 43,
   "metadata": {},
   "outputs": [
    {
     "name": "stdout",
     "output_type": "stream",
     "text": [
      "2\n",
      "UDDDUDUU\n"
     ]
    }
   ],
   "source": [
    "n = int(input())\n",
    "trail = str(raw_input())"
   ]
  },
  {
   "cell_type": "code",
   "execution_count": 44,
   "metadata": {
    "collapsed": true
   },
   "outputs": [],
   "source": [
    "up = 1\n",
    "down = -1\n",
    "sealevel = 0\n",
    "count = 0"
   ]
  },
  {
   "cell_type": "code",
   "execution_count": 45,
   "metadata": {},
   "outputs": [
    {
     "name": "stdout",
     "output_type": "stream",
     "text": [
      "1\n"
     ]
    }
   ],
   "source": [
    "for step in trail:\n",
    "    if step == \"U\":\n",
    "        sealevel = sealevel+up\n",
    "    if step == \"D\":\n",
    "        sealevel = sealevel+down\n",
    "    if sealevel == -1:\n",
    "        if step == \"U\":\n",
    "            sealevel = sealevel+up\n",
    "            count = count+1\n",
    "        elif step == \"D\":\n",
    "            sealevel = sealevel+down\n",
    "            \n",
    "print count"
   ]
  },
  {
   "cell_type": "code",
   "execution_count": null,
   "metadata": {
    "collapsed": true
   },
   "outputs": [],
   "source": []
  }
 ],
 "metadata": {
  "kernelspec": {
   "display_name": "Python 2",
   "language": "python",
   "name": "python2"
  },
  "language_info": {
   "codemirror_mode": {
    "name": "ipython",
    "version": 2
   },
   "file_extension": ".py",
   "mimetype": "text/x-python",
   "name": "python",
   "nbconvert_exporter": "python",
   "pygments_lexer": "ipython2",
   "version": "2.7.13"
  }
 },
 "nbformat": 4,
 "nbformat_minor": 2
}
