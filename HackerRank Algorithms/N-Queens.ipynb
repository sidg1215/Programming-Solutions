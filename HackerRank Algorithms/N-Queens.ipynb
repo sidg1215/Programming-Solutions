{
 "cells": [
  {
   "cell_type": "code",
   "execution_count": 1,
   "metadata": {
    "collapsed": true
   },
   "outputs": [],
   "source": [
    "import itertools"
   ]
  },
  {
   "cell_type": "code",
   "execution_count": 222,
   "metadata": {
    "collapsed": true
   },
   "outputs": [],
   "source": [
    "def nQueensSlow(n):\n",
    "    solutions = []\n",
    "    count = 0\n",
    "    array = []\n",
    "    for i in range(1,n+1):\n",
    "        array.append(i)\n",
    "    for perm in itertools.combinations(array,n):\n",
    "        i = 0\n",
    "        k = 1\n",
    "        \n",
    "        while i <> (n-1):\n",
    "            if (k == n-1):\n",
    "                i = i + 1\n",
    "                k = i+1\n",
    "            else:\n",
    "                if abs(perm[i]-perm[k]) == abs(i-k):\n",
    "                    break\n",
    "                else:\n",
    "                    k = k+1\n",
    "        if i == (n-1):\n",
    "            solutions.append(perm)\n",
    "            count = count + 1\n",
    "    return solutions"
   ]
  },
  {
   "cell_type": "code",
   "execution_count": 223,
   "metadata": {},
   "outputs": [
    {
     "data": {
      "text/plain": [
       "[]"
      ]
     },
     "execution_count": 223,
     "metadata": {},
     "output_type": "execute_result"
    }
   ],
   "source": [
    "nQueensSlow(8)"
   ]
  },
  {
   "cell_type": "code",
   "execution_count": 224,
   "metadata": {
    "collapsed": true
   },
   "outputs": [],
   "source": [
    "def checkPermutation(array,n):\n",
    "        i = 0\n",
    "        k = 1\n",
    "        \n",
    "        while i <> (len(array)-1):\n",
    "            if (k == len(array)-1):\n",
    "                i = i+1\n",
    "                k = i+1\n",
    "            else:\n",
    "                if abs(array[i]-array[k]) == abs(i-k):\n",
    "                    break\n",
    "                else:\n",
    "                    k = k+1\n",
    "        if i == (len(array)-1):\n",
    "            return True\n",
    "        else:\n",
    "            return False\n"
   ]
  },
  {
   "cell_type": "code",
   "execution_count": 225,
   "metadata": {
    "collapsed": true
   },
   "outputs": [],
   "source": [
    "def nQueens(n,solution = []):\n",
    "    for i in range(1,n+1):\n",
    "        if i not in solution:\n",
    "            solution.append(i)\n",
    "            if checkPermutation(solution,n) == True:\n",
    "                 nQueens(n,solution)\n",
    "            else:\n",
    "                solution.pop()\n",
    "    if len(solution) < n:\n",
    "        solution.pop()\n",
    "    return solution"
   ]
  },
  {
   "cell_type": "code",
   "execution_count": 226,
   "metadata": {
    "scrolled": true
   },
   "outputs": [
    {
     "data": {
      "text/plain": [
       "[1, 3, 5, 7, 2, 4, 6, 8]"
      ]
     },
     "execution_count": 226,
     "metadata": {},
     "output_type": "execute_result"
    }
   ],
   "source": [
    "nQueens(8)"
   ]
  },
  {
   "cell_type": "code",
   "execution_count": 240,
   "metadata": {},
   "outputs": [
    {
     "data": {
      "text/plain": [
       "31"
      ]
     },
     "execution_count": 240,
     "metadata": {},
     "output_type": "execute_result"
    }
   ],
   "source": []
  },
  {
   "cell_type": "code",
   "execution_count": null,
   "metadata": {
    "collapsed": true
   },
   "outputs": [],
   "source": []
  }
 ],
 "metadata": {
  "kernelspec": {
   "display_name": "Python 2",
   "language": "python",
   "name": "python2"
  },
  "language_info": {
   "codemirror_mode": {
    "name": "ipython",
    "version": 2
   },
   "file_extension": ".py",
   "mimetype": "text/x-python",
   "name": "python",
   "nbconvert_exporter": "python",
   "pygments_lexer": "ipython2",
   "version": "2.7.11"
  }
 },
 "nbformat": 4,
 "nbformat_minor": 2
}
