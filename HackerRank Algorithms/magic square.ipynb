{
 "cells": [
  {
   "cell_type": "code",
   "execution_count": 2,
   "metadata": {},
   "outputs": [
    {
     "name": "stdout",
     "output_type": "stream",
     "text": [
      "1 2 3\n",
      "4 5 6\n",
      "7 8 9\n",
      "[6, 15, 24, 15, 15, 12, 15, 18]\n",
      "[6, 24, 12, 18]\n"
     ]
    }
   ],
   "source": [
    "import sys\n",
    "\n",
    "s = []\n",
    "sums = []\n",
    "\n",
    "column = 0\n",
    "columnsum = 0\n",
    "\n",
    "diagnol = 0\n",
    "diagnolsum = 0\n",
    "\n",
    "for s_i in xrange(3):\n",
    "    s_temp = map(int,raw_input().strip().split(' '))\n",
    "    s.append(s_temp)\n",
    "for line in s:\n",
    "    sums.append(sum(line))\n",
    "for line in s:\n",
    "    diagnolsum = diagnolsum + line[diagnol]\n",
    "    diagnol = diagnol+1\n",
    "sums.append(diagnolsum)\n",
    "\n",
    "diagnolsum = 0\n",
    "diagnol = 2\n",
    "\n",
    "\n",
    "for line in s:\n",
    "    diagnolsum = diagnolsum + line[diagnol]\n",
    "    diagnol = diagnol-1\n",
    "sums.append(diagnolsum)\n",
    "\n",
    "\n",
    "while column<>3:\n",
    "    for line in s:\n",
    "        columnsum = columnsum + line[column]\n",
    "    sums.append(columnsum)\n",
    "    columnsum = 0\n",
    "    column = column + 1\n",
    "\n",
    "print sums\n",
    "\n",
    "change = []\n",
    "index_of_change = []\n",
    "\n",
    "matrix = [[1,2,3],[4,5,6],[7,8,9]]\n",
    "\n",
    "matrix_sums = [matrix[0],matrix[1],matrix[2],[matrix[0][0],matrix[1][1],matrix[2][2]],[matrix[0][2],matrix[1][1],matrix[2][0]],\n",
    "              [matrix[0][0],matrix[1][0],matrix[2][0]],[matrix[0][1],matrix[1][1],matrix[2][1]],[matrix[0][2],matrix[1][2],matrix[2][2]]]\n",
    "\n",
    "\n",
    "for x in sums:\n",
    "    if x <> 15:\n",
    "        change.append(x)\n",
    "        index_of_change.append(matrix_sums[sums.index(x)])\n",
    "\n",
    "print change\n",
    "\n",
    "seen = set()\n",
    "repeated = set()\n",
    "for l in index_of_change:\n",
    "    for i in set(l):\n",
    "        if i in seen:\n",
    "            repeated.add(i)\n",
    "        else:\n",
    "            seen.add(i)"
   ]
  },
  {
   "cell_type": "code",
   "execution_count": null,
   "metadata": {
    "collapsed": true
   },
   "outputs": [],
   "source": []
  },
  {
   "cell_type": "code",
   "execution_count": null,
   "metadata": {
    "collapsed": true
   },
   "outputs": [],
   "source": []
  },
  {
   "cell_type": "code",
   "execution_count": null,
   "metadata": {
    "collapsed": true
   },
   "outputs": [],
   "source": []
  },
  {
   "cell_type": "code",
   "execution_count": null,
   "metadata": {
    "collapsed": true
   },
   "outputs": [],
   "source": []
  }
 ],
 "metadata": {
  "kernelspec": {
   "display_name": "Python 2",
   "language": "python",
   "name": "python2"
  },
  "language_info": {
   "codemirror_mode": {
    "name": "ipython",
    "version": 2
   },
   "file_extension": ".py",
   "mimetype": "text/x-python",
   "name": "python",
   "nbconvert_exporter": "python",
   "pygments_lexer": "ipython2",
   "version": "2.7.13"
  }
 },
 "nbformat": 4,
 "nbformat_minor": 2
}
