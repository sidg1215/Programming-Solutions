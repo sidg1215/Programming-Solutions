{
 "cells": [
  {
   "cell_type": "code",
   "execution_count": 76,
   "metadata": {},
   "outputs": [
    {
     "name": "stdout",
     "output_type": "stream",
     "text": [
      "100\n",
      "15\n",
      "0\n"
     ]
    }
   ],
   "source": [
    "import sys\n",
    "import math\n",
    "from itertools import combinations\n",
    "\n",
    "\n",
    "def powerSum(X, N, nums=[]):\n",
    "    # Complete this function\n",
    "    s = 0\n",
    "    for n in nums:\n",
    "        s = s + n**N\n",
    "    if s == X:\n",
    "        return 1\n",
    "    else:\n",
    "        count = 0\n",
    "        new = None\n",
    "        if nums:\n",
    "            new = nums[-1] + 1\n",
    "        else:\n",
    "            new = 1\n",
    "        while s + new**N <= X:\n",
    "            count = count + powerSum(X,N,nums + [new])\n",
    "            new = new+1\n",
    "        return count\n",
    "if __name__ == \"__main__\":\n",
    "    X = int(raw_input().strip())\n",
    "    N = int(raw_input().strip())\n",
    "    result = powerSum(X, N)\n",
    "    print result"
   ]
  },
  {
   "cell_type": "code",
   "execution_count": null,
   "metadata": {
    "collapsed": true
   },
   "outputs": [],
   "source": []
  }
 ],
 "metadata": {
  "kernelspec": {
   "display_name": "Python 2",
   "language": "python",
   "name": "python2"
  },
  "language_info": {
   "codemirror_mode": {
    "name": "ipython",
    "version": 2
   },
   "file_extension": ".py",
   "mimetype": "text/x-python",
   "name": "python",
   "nbconvert_exporter": "python",
   "pygments_lexer": "ipython2",
   "version": "2.7.13"
  }
 },
 "nbformat": 4,
 "nbformat_minor": 2
}
