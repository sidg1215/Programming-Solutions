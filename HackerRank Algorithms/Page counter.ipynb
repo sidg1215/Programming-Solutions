{
 "cells": [
  {
   "cell_type": "code",
   "execution_count": 16,
   "metadata": {},
   "outputs": [
    {
     "name": "stdout",
     "output_type": "stream",
     "text": [
      "6\n",
      "2\n",
      "1\n"
     ]
    }
   ],
   "source": [
    "import sys\n",
    "\n",
    "def solve(n, p):\n",
    "    currentpage = 1\n",
    "    count = 0\n",
    "    while currentpage <> p:\n",
    "        currentpage = currentpage + 1\n",
    "        if currentpage%2 == 0:\n",
    "            count = count+1\n",
    "    \n",
    "    currentpage = n\n",
    "    reversecount = 0\n",
    "    \n",
    "    while currentpage <> p:\n",
    "        currentpage = currentpage-1\n",
    "        if currentpage%2 == 1:\n",
    "            reversecount = reversecount+1\n",
    "            \n",
    "    return min(count,reversecount)\n",
    "        \n",
    "    \n",
    "\n",
    "\n",
    "n = int(raw_input().strip())\n",
    "p = int(raw_input().strip())\n",
    "result = solve(n, p)\n",
    "print(result)"
   ]
  },
  {
   "cell_type": "code",
   "execution_count": null,
   "metadata": {
    "collapsed": true
   },
   "outputs": [],
   "source": []
  }
 ],
 "metadata": {
  "kernelspec": {
   "display_name": "Python 2",
   "language": "python",
   "name": "python2"
  },
  "language_info": {
   "codemirror_mode": {
    "name": "ipython",
    "version": 2
   },
   "file_extension": ".py",
   "mimetype": "text/x-python",
   "name": "python",
   "nbconvert_exporter": "python",
   "pygments_lexer": "ipython2",
   "version": "2.7.13"
  }
 },
 "nbformat": 4,
 "nbformat_minor": 2
}
