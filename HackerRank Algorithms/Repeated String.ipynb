{
 "cells": [
  {
   "cell_type": "code",
   "execution_count": 10,
   "metadata": {
    "collapsed": true
   },
   "outputs": [],
   "source": [
    "import math\n",
    "import os\n",
    "import random\n",
    "import re\n",
    "import sys\n",
    "\n",
    "# Complete the repeatedString function below.\n",
    "def repeatedString(s, n):\n",
    "    if n<=len(s):\n",
    "        count = 0\n",
    "        for i in range(0,n):\n",
    "            if s[i] == 'a':\n",
    "                count = count + 1\n",
    "        return count\n",
    "    if n > len(s):\n",
    "        count = 0\n",
    "        for i in s:\n",
    "            if i == 'a':\n",
    "                count = count + 1\n",
    "        remainder = n%len(s)\n",
    "        multiplied = count*(n/len(s))\n",
    "        \n",
    "        for i in s[:remainder]:\n",
    "            if i == 'a':\n",
    "                multiplied = multiplied+1\n",
    "        return multiplied\n",
    "    return count\n"
   ]
  },
  {
   "cell_type": "code",
   "execution_count": 11,
   "metadata": {},
   "outputs": [
    {
     "data": {
      "text/plain": [
       "2"
      ]
     },
     "execution_count": 11,
     "metadata": {},
     "output_type": "execute_result"
    }
   ],
   "source": [
    "repeatedString(\"ababa\",3)"
   ]
  },
  {
   "cell_type": "code",
   "execution_count": null,
   "metadata": {
    "collapsed": true
   },
   "outputs": [],
   "source": []
  }
 ],
 "metadata": {
  "kernelspec": {
   "display_name": "Python 2",
   "language": "python",
   "name": "python2"
  },
  "language_info": {
   "codemirror_mode": {
    "name": "ipython",
    "version": 2
   },
   "file_extension": ".py",
   "mimetype": "text/x-python",
   "name": "python",
   "nbconvert_exporter": "python",
   "pygments_lexer": "ipython2",
   "version": "2.7.11"
  }
 },
 "nbformat": 4,
 "nbformat_minor": 2
}
