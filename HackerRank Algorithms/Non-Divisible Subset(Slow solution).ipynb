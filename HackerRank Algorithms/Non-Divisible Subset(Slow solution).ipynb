{
 "cells": [
  {
   "cell_type": "code",
   "execution_count": 44,
   "metadata": {
    "collapsed": true,
    "scrolled": true
   },
   "outputs": [],
   "source": [
    "import itertools\n",
    "import numpy as np"
   ]
  },
  {
   "cell_type": "code",
   "execution_count": 88,
   "metadata": {},
   "outputs": [],
   "source": [
    "def nonDivisibleSubset(k, x):\n",
    "    if k == 0:\n",
    "        return 0\n",
    "    if k == 1:\n",
    "        return 1\n",
    "    else:\n",
    "        dictnum = {}\n",
    "        for i in x:\n",
    "            dictnum[i] = 0\n",
    "\n",
    "        a = 1\n",
    "        sums = []\n",
    "        notsums = []\n",
    "        for i in x:\n",
    "            for n in x[a:len(x)]:\n",
    "                if ((i+n)%k) <> 0:\n",
    "                    sums.append(i)\n",
    "                    sums.append(n)\n",
    "                    dictnum[i] += 1\n",
    "                    dictnum[n] += 1\n",
    "                else:\n",
    "                    notsums.append((i,n))\n",
    "            a = a+1\n",
    "\n",
    "        sums = list(set(sums))\n",
    "\n",
    "        a = 1\n",
    "        for i in sums:\n",
    "            for n in sums[a:len(sums)]:\n",
    "                if ((i,n) in notsums) or ((n,i) in notsums):\n",
    "                    if dictnum[i]>=dictnum[n]:\n",
    "                        sums.remove(n)\n",
    "                    if dictnum[i]<dictnum[n]:\n",
    "                        sums.remove(i)\n",
    "                        break\n",
    "\n",
    "        return len(sums)\n",
    "        \n"
   ]
  },
  {
   "cell_type": "code",
   "execution_count": 92,
   "metadata": {
    "scrolled": true
   },
   "outputs": [
    {
     "name": "stdout",
     "output_type": "stream",
     "text": [
      " \n",
      "[]\n",
      " \n",
      "[(1, 2), (1, 3), (1, 4), (1, 5), (2, 3), (2, 4), (2, 5), (3, 4), (3, 5), (4, 5)]\n",
      " \n",
      "{1: 0, 2: 0, 3: 0, 4: 0, 5: 0}\n",
      "0\n"
     ]
    }
   ],
   "source": [
    "x = [1,2,3,4,5]\n",
    "x = list(set(x))\n",
    "dictnum = {}\n",
    "for i in x:\n",
    "    dictnum[i] = 0\n",
    "\n",
    "a = 1\n",
    "sums = []\n",
    "notsums = []\n",
    "for i in x:\n",
    "    for n in x[a:len(x)]:\n",
    "        if ((i+n)%1) <> 0:\n",
    "            sums.append(i)\n",
    "            sums.append(n)\n",
    "            dictnum[i] += 1\n",
    "            dictnum[n] += 1\n",
    "        else:\n",
    "            notsums.append((i,n))\n",
    "    a = a+1\n",
    "    \n",
    "sums = list(set(sums))\n",
    "print \" \"\n",
    "print sums\n",
    "print \" \"\n",
    "print notsums\n",
    "print \" \"\n",
    "print dictnum\n",
    "\n",
    "a = 1\n",
    "for i in sums:\n",
    "    for n in sums[a:len(sums)]:\n",
    "        if ((i,n) in notsums) or ((n,i) in notsums):\n",
    "            print (i,n)\n",
    "            if dictnum[i]>=dictnum[n]:\n",
    "                print \"A\"\n",
    "                sums.remove(n)\n",
    "            if dictnum[i]<dictnum[n]:\n",
    "                print \"B\"\n",
    "                sums.remove(i)\n",
    "                break\n",
    "\n",
    "print len(sums)"
   ]
  },
  {
   "cell_type": "code",
   "execution_count": 74,
   "metadata": {},
   "outputs": [],
   "source": [
    "sums = list(set(sums))"
   ]
  },
  {
   "cell_type": "code",
   "execution_count": 75,
   "metadata": {},
   "outputs": [
    {
     "name": "stdout",
     "output_type": "stream",
     "text": [
      "[576, 771, 718, 496, 209, 338, 436, 149, 278, 727, 410, 124, 282, 702, 575]\n",
      "[(576, 278), (576, 124), (771, 496), (771, 209), (771, 727), (496, 575), (209, 575), (338, 278), (338, 124), (436, 278), (436, 124), (149, 278), (149, 124), (278, 282), (278, 702), (727, 575), (124, 282), (124, 702)]\n"
     ]
    },
    {
     "data": {
      "text/plain": [
       "{124: 8,\n",
       " 149: 12,\n",
       " 209: 12,\n",
       " 278: 8,\n",
       " 282: 12,\n",
       " 338: 12,\n",
       " 410: 14,\n",
       " 436: 12,\n",
       " 496: 12,\n",
       " 575: 11,\n",
       " 576: 12,\n",
       " 702: 12,\n",
       " 718: 14,\n",
       " 727: 12,\n",
       " 771: 11}"
      ]
     },
     "execution_count": 75,
     "metadata": {},
     "output_type": "execute_result"
    }
   ],
   "source": [
    "print sums\n",
    "print notsums\n",
    "dictnum"
   ]
  },
  {
   "cell_type": "code",
   "execution_count": 76,
   "metadata": {},
   "outputs": [
    {
     "name": "stdout",
     "output_type": "stream",
     "text": [
      "(576, 278)\n",
      "A\n",
      "C\n"
     ]
    },
    {
     "ename": "ValueError",
     "evalue": "list.remove(x): x not in list",
     "output_type": "error",
     "traceback": [
      "\u001b[0;31m---------------------------------------------------------------------------\u001b[0m",
      "\u001b[0;31mValueError\u001b[0m                                Traceback (most recent call last)",
      "\u001b[0;32m<ipython-input-76-84237e4091d4>\u001b[0m in \u001b[0;36m<module>\u001b[0;34m()\u001b[0m\n\u001b[1;32m     13\u001b[0m                 \u001b[0;32mprint\u001b[0m \u001b[0;34m\"C\"\u001b[0m\u001b[0;34m\u001b[0m\u001b[0m\n\u001b[1;32m     14\u001b[0m                 \u001b[0msums\u001b[0m\u001b[0;34m.\u001b[0m\u001b[0mremove\u001b[0m\u001b[0;34m(\u001b[0m\u001b[0mi\u001b[0m\u001b[0;34m)\u001b[0m\u001b[0;34m\u001b[0m\u001b[0m\n\u001b[0;32m---> 15\u001b[0;31m                 \u001b[0msums\u001b[0m\u001b[0;34m.\u001b[0m\u001b[0mremove\u001b[0m\u001b[0;34m(\u001b[0m\u001b[0mn\u001b[0m\u001b[0;34m)\u001b[0m\u001b[0;34m\u001b[0m\u001b[0m\n\u001b[0m\u001b[1;32m     16\u001b[0m \u001b[0;32mprint\u001b[0m \u001b[0msums\u001b[0m\u001b[0;34m\u001b[0m\u001b[0m\n",
      "\u001b[0;31mValueError\u001b[0m: list.remove(x): x not in list"
     ]
    }
   ],
   "source": [
    "a = 1\n",
    "for i in sums:\n",
    "    for n in sums[a:len(sums)]:\n",
    "        if ((i,n) in notsums) or ((n,i) in notsums):\n",
    "            print (i,n)\n",
    "            if dictnum[i]>dictnum[n]:\n",
    "                print \"A\"\n",
    "                sums.remove(n)\n",
    "            if dictnum[i]<dictnum[n]:\n",
    "                print \"B\"\n",
    "                sums.remove(i)\n",
    "            else:\n",
    "                print \"C\"\n",
    "                sums.remove(i)\n",
    "                sums.remove(n)\n",
    "print sums"
   ]
  },
  {
   "cell_type": "code",
   "execution_count": null,
   "metadata": {
    "collapsed": true
   },
   "outputs": [],
   "source": []
  }
 ],
 "metadata": {
  "kernelspec": {
   "display_name": "Python 2",
   "language": "python",
   "name": "python2"
  },
  "language_info": {
   "codemirror_mode": {
    "name": "ipython",
    "version": 2
   },
   "file_extension": ".py",
   "mimetype": "text/x-python",
   "name": "python",
   "nbconvert_exporter": "python",
   "pygments_lexer": "ipython2",
   "version": "2.7.11"
  }
 },
 "nbformat": 4,
 "nbformat_minor": 2
}
